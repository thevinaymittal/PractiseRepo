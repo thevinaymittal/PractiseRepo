{
  "nbformat": 4,
  "nbformat_minor": 0,
  "metadata": {
    "colab": {
      "name": "Games Prediction.ipynb",
      "version": "0.3.2",
      "provenance": [],
      "include_colab_link": true
    },
    "kernelspec": {
      "name": "python3",
      "display_name": "Python 3"
    }
  },
  "cells": [
    {
      "cell_type": "markdown",
      "metadata": {
        "id": "view-in-github",
        "colab_type": "text"
      },
      "source": [
        "<a href=\"https://colab.research.google.com/github/thevinaymittal/PractiseRepo/blob/master/Games_Prediction.ipynb\" target=\"_parent\"><img src=\"https://colab.research.google.com/assets/colab-badge.svg\" alt=\"Open In Colab\"/></a>"
      ]
    },
    {
      "metadata": {
        "id": "PhxsX5qWlwW5",
        "colab_type": "code",
        "colab": {}
      },
      "cell_type": "code",
      "source": [
        "import numpy as np\n",
        "import pandas as pd\n",
        "import matplotlib.pyplot as plt\n",
        "import seaborn as sns\n",
        "from sklearn import model_selection, metrics, preprocessing"
      ],
      "execution_count": 0,
      "outputs": []
    },
    {
      "metadata": {
        "id": "AzCEF2dnqpHr",
        "colab_type": "text"
      },
      "cell_type": "markdown",
      "source": [
        "Above we verify and import crucial tools(frameworks)"
      ]
    },
    {
      "metadata": {
        "id": "x2Q-EXAtsFwe",
        "colab_type": "text"
      },
      "cell_type": "markdown",
      "source": [
        "#Next, Load the dataset, Do some preprocessing & lastly Visualize"
      ]
    },
    {
      "metadata": {
        "id": "xCpOAHGsp6Ui",
        "colab_type": "code",
        "colab": {}
      },
      "cell_type": "code",
      "source": [
        "#Loading Dataset\n",
        "\n",
        "games = pd.read_csv(\"https://raw.githubusercontent.com/ThaWeatherman/scrapers/master/boardgamegeek/games.csv\")"
      ],
      "execution_count": 0,
      "outputs": []
    },
    {
      "metadata": {
        "id": "ZjF0KZY7sn5V",
        "colab_type": "code",
        "colab": {
          "base_uri": "https://localhost:8080/",
          "height": 317
        },
        "outputId": "3e4a3b57-d15e-47bc-d0a3-fac0fd9cdf20"
      },
      "cell_type": "code",
      "source": [
        "#Preprocessing if required\n",
        "\n",
        "#Step 1: Quick look\n",
        "\n",
        "games.describe()\n"
      ],
      "execution_count": 31,
      "outputs": [
        {
          "output_type": "execute_result",
          "data": {
            "text/html": [
              "<div>\n",
              "<style scoped>\n",
              "    .dataframe tbody tr th:only-of-type {\n",
              "        vertical-align: middle;\n",
              "    }\n",
              "\n",
              "    .dataframe tbody tr th {\n",
              "        vertical-align: top;\n",
              "    }\n",
              "\n",
              "    .dataframe thead th {\n",
              "        text-align: right;\n",
              "    }\n",
              "</style>\n",
              "<table border=\"1\" class=\"dataframe\">\n",
              "  <thead>\n",
              "    <tr style=\"text-align: right;\">\n",
              "      <th></th>\n",
              "      <th>id</th>\n",
              "      <th>yearpublished</th>\n",
              "      <th>minplayers</th>\n",
              "      <th>maxplayers</th>\n",
              "      <th>playingtime</th>\n",
              "      <th>minplaytime</th>\n",
              "      <th>maxplaytime</th>\n",
              "      <th>minage</th>\n",
              "      <th>users_rated</th>\n",
              "      <th>average_rating</th>\n",
              "      <th>bayes_average_rating</th>\n",
              "      <th>total_owners</th>\n",
              "      <th>total_traders</th>\n",
              "      <th>total_wanters</th>\n",
              "      <th>total_wishers</th>\n",
              "      <th>total_comments</th>\n",
              "      <th>total_weights</th>\n",
              "      <th>average_weight</th>\n",
              "    </tr>\n",
              "  </thead>\n",
              "  <tbody>\n",
              "    <tr>\n",
              "      <th>count</th>\n",
              "      <td>81312.000000</td>\n",
              "      <td>81309.000000</td>\n",
              "      <td>81309.000000</td>\n",
              "      <td>81309.000000</td>\n",
              "      <td>81309.000000</td>\n",
              "      <td>81309.000000</td>\n",
              "      <td>81309.000000</td>\n",
              "      <td>81309.000000</td>\n",
              "      <td>81312.000000</td>\n",
              "      <td>81312.000000</td>\n",
              "      <td>81312.000000</td>\n",
              "      <td>81312.000000</td>\n",
              "      <td>81312.000000</td>\n",
              "      <td>81312.000000</td>\n",
              "      <td>81312.000000</td>\n",
              "      <td>81312.000000</td>\n",
              "      <td>81312.000000</td>\n",
              "      <td>81312.000000</td>\n",
              "    </tr>\n",
              "    <tr>\n",
              "      <th>mean</th>\n",
              "      <td>72278.150138</td>\n",
              "      <td>1806.630668</td>\n",
              "      <td>1.992018</td>\n",
              "      <td>5.637703</td>\n",
              "      <td>51.634788</td>\n",
              "      <td>49.276833</td>\n",
              "      <td>51.634788</td>\n",
              "      <td>6.983975</td>\n",
              "      <td>161.886585</td>\n",
              "      <td>4.212144</td>\n",
              "      <td>1.157632</td>\n",
              "      <td>262.502509</td>\n",
              "      <td>9.236423</td>\n",
              "      <td>12.688890</td>\n",
              "      <td>42.719144</td>\n",
              "      <td>49.290031</td>\n",
              "      <td>16.488009</td>\n",
              "      <td>0.908083</td>\n",
              "    </tr>\n",
              "    <tr>\n",
              "      <th>std</th>\n",
              "      <td>58818.237742</td>\n",
              "      <td>588.517834</td>\n",
              "      <td>0.931034</td>\n",
              "      <td>56.076890</td>\n",
              "      <td>345.699969</td>\n",
              "      <td>334.483934</td>\n",
              "      <td>345.699969</td>\n",
              "      <td>5.035138</td>\n",
              "      <td>1145.978126</td>\n",
              "      <td>3.056551</td>\n",
              "      <td>2.340033</td>\n",
              "      <td>1504.536693</td>\n",
              "      <td>39.757408</td>\n",
              "      <td>60.764207</td>\n",
              "      <td>239.292628</td>\n",
              "      <td>284.862853</td>\n",
              "      <td>115.980285</td>\n",
              "      <td>1.176002</td>\n",
              "    </tr>\n",
              "    <tr>\n",
              "      <th>min</th>\n",
              "      <td>1.000000</td>\n",
              "      <td>-3500.000000</td>\n",
              "      <td>0.000000</td>\n",
              "      <td>0.000000</td>\n",
              "      <td>0.000000</td>\n",
              "      <td>0.000000</td>\n",
              "      <td>0.000000</td>\n",
              "      <td>0.000000</td>\n",
              "      <td>0.000000</td>\n",
              "      <td>0.000000</td>\n",
              "      <td>0.000000</td>\n",
              "      <td>0.000000</td>\n",
              "      <td>0.000000</td>\n",
              "      <td>0.000000</td>\n",
              "      <td>0.000000</td>\n",
              "      <td>0.000000</td>\n",
              "      <td>0.000000</td>\n",
              "      <td>0.000000</td>\n",
              "    </tr>\n",
              "    <tr>\n",
              "      <th>25%</th>\n",
              "      <td>21339.750000</td>\n",
              "      <td>1984.000000</td>\n",
              "      <td>2.000000</td>\n",
              "      <td>2.000000</td>\n",
              "      <td>8.000000</td>\n",
              "      <td>10.000000</td>\n",
              "      <td>8.000000</td>\n",
              "      <td>0.000000</td>\n",
              "      <td>0.000000</td>\n",
              "      <td>0.000000</td>\n",
              "      <td>0.000000</td>\n",
              "      <td>1.000000</td>\n",
              "      <td>0.000000</td>\n",
              "      <td>0.000000</td>\n",
              "      <td>0.000000</td>\n",
              "      <td>0.000000</td>\n",
              "      <td>0.000000</td>\n",
              "      <td>0.000000</td>\n",
              "    </tr>\n",
              "    <tr>\n",
              "      <th>50%</th>\n",
              "      <td>43258.000000</td>\n",
              "      <td>2003.000000</td>\n",
              "      <td>2.000000</td>\n",
              "      <td>4.000000</td>\n",
              "      <td>30.000000</td>\n",
              "      <td>30.000000</td>\n",
              "      <td>30.000000</td>\n",
              "      <td>8.000000</td>\n",
              "      <td>2.000000</td>\n",
              "      <td>5.265620</td>\n",
              "      <td>0.000000</td>\n",
              "      <td>7.000000</td>\n",
              "      <td>0.000000</td>\n",
              "      <td>0.000000</td>\n",
              "      <td>1.000000</td>\n",
              "      <td>1.000000</td>\n",
              "      <td>0.000000</td>\n",
              "      <td>0.000000</td>\n",
              "    </tr>\n",
              "    <tr>\n",
              "      <th>75%</th>\n",
              "      <td>128836.500000</td>\n",
              "      <td>2010.000000</td>\n",
              "      <td>2.000000</td>\n",
              "      <td>6.000000</td>\n",
              "      <td>60.000000</td>\n",
              "      <td>60.000000</td>\n",
              "      <td>60.000000</td>\n",
              "      <td>12.000000</td>\n",
              "      <td>16.000000</td>\n",
              "      <td>6.718777</td>\n",
              "      <td>0.000000</td>\n",
              "      <td>51.000000</td>\n",
              "      <td>2.000000</td>\n",
              "      <td>3.000000</td>\n",
              "      <td>7.000000</td>\n",
              "      <td>9.000000</td>\n",
              "      <td>2.000000</td>\n",
              "      <td>1.916700</td>\n",
              "    </tr>\n",
              "    <tr>\n",
              "      <th>max</th>\n",
              "      <td>184451.000000</td>\n",
              "      <td>2018.000000</td>\n",
              "      <td>99.000000</td>\n",
              "      <td>11299.000000</td>\n",
              "      <td>60120.000000</td>\n",
              "      <td>60120.000000</td>\n",
              "      <td>60120.000000</td>\n",
              "      <td>120.000000</td>\n",
              "      <td>53680.000000</td>\n",
              "      <td>10.000000</td>\n",
              "      <td>8.221860</td>\n",
              "      <td>73188.000000</td>\n",
              "      <td>1395.000000</td>\n",
              "      <td>1586.000000</td>\n",
              "      <td>6402.000000</td>\n",
              "      <td>11798.000000</td>\n",
              "      <td>5996.000000</td>\n",
              "      <td>5.000000</td>\n",
              "    </tr>\n",
              "  </tbody>\n",
              "</table>\n",
              "</div>"
            ],
            "text/plain": [
              "                  id  yearpublished    minplayers    maxplayers   playingtime  \\\n",
              "count   81312.000000   81309.000000  81309.000000  81309.000000  81309.000000   \n",
              "mean    72278.150138    1806.630668      1.992018      5.637703     51.634788   \n",
              "std     58818.237742     588.517834      0.931034     56.076890    345.699969   \n",
              "min         1.000000   -3500.000000      0.000000      0.000000      0.000000   \n",
              "25%     21339.750000    1984.000000      2.000000      2.000000      8.000000   \n",
              "50%     43258.000000    2003.000000      2.000000      4.000000     30.000000   \n",
              "75%    128836.500000    2010.000000      2.000000      6.000000     60.000000   \n",
              "max    184451.000000    2018.000000     99.000000  11299.000000  60120.000000   \n",
              "\n",
              "        minplaytime   maxplaytime        minage   users_rated  average_rating  \\\n",
              "count  81309.000000  81309.000000  81309.000000  81312.000000    81312.000000   \n",
              "mean      49.276833     51.634788      6.983975    161.886585        4.212144   \n",
              "std      334.483934    345.699969      5.035138   1145.978126        3.056551   \n",
              "min        0.000000      0.000000      0.000000      0.000000        0.000000   \n",
              "25%       10.000000      8.000000      0.000000      0.000000        0.000000   \n",
              "50%       30.000000     30.000000      8.000000      2.000000        5.265620   \n",
              "75%       60.000000     60.000000     12.000000     16.000000        6.718777   \n",
              "max    60120.000000  60120.000000    120.000000  53680.000000       10.000000   \n",
              "\n",
              "       bayes_average_rating  total_owners  total_traders  total_wanters  \\\n",
              "count          81312.000000  81312.000000   81312.000000   81312.000000   \n",
              "mean               1.157632    262.502509       9.236423      12.688890   \n",
              "std                2.340033   1504.536693      39.757408      60.764207   \n",
              "min                0.000000      0.000000       0.000000       0.000000   \n",
              "25%                0.000000      1.000000       0.000000       0.000000   \n",
              "50%                0.000000      7.000000       0.000000       0.000000   \n",
              "75%                0.000000     51.000000       2.000000       3.000000   \n",
              "max                8.221860  73188.000000    1395.000000    1586.000000   \n",
              "\n",
              "       total_wishers  total_comments  total_weights  average_weight  \n",
              "count   81312.000000    81312.000000   81312.000000    81312.000000  \n",
              "mean       42.719144       49.290031      16.488009        0.908083  \n",
              "std       239.292628      284.862853     115.980285        1.176002  \n",
              "min         0.000000        0.000000       0.000000        0.000000  \n",
              "25%         0.000000        0.000000       0.000000        0.000000  \n",
              "50%         1.000000        1.000000       0.000000        0.000000  \n",
              "75%         7.000000        9.000000       2.000000        1.916700  \n",
              "max      6402.000000    11798.000000    5996.000000        5.000000  "
            ]
          },
          "metadata": {
            "tags": []
          },
          "execution_count": 31
        }
      ]
    },
    {
      "metadata": {
        "id": "Y_jX09OuCeh3",
        "colab_type": "code",
        "colab": {
          "base_uri": "https://localhost:8080/",
          "height": 442
        },
        "outputId": "52eba6f3-0f40-447e-fdf6-227c3cef4b80"
      },
      "cell_type": "code",
      "source": [
        "games.info()"
      ],
      "execution_count": 32,
      "outputs": [
        {
          "output_type": "stream",
          "text": [
            "<class 'pandas.core.frame.DataFrame'>\n",
            "RangeIndex: 81312 entries, 0 to 81311\n",
            "Data columns (total 20 columns):\n",
            "id                      81312 non-null int64\n",
            "type                    81312 non-null object\n",
            "name                    81271 non-null object\n",
            "yearpublished           81309 non-null float64\n",
            "minplayers              81309 non-null float64\n",
            "maxplayers              81309 non-null float64\n",
            "playingtime             81309 non-null float64\n",
            "minplaytime             81309 non-null float64\n",
            "maxplaytime             81309 non-null float64\n",
            "minage                  81309 non-null float64\n",
            "users_rated             81312 non-null int64\n",
            "average_rating          81312 non-null float64\n",
            "bayes_average_rating    81312 non-null float64\n",
            "total_owners            81312 non-null int64\n",
            "total_traders           81312 non-null int64\n",
            "total_wanters           81312 non-null int64\n",
            "total_wishers           81312 non-null int64\n",
            "total_comments          81312 non-null int64\n",
            "total_weights           81312 non-null int64\n",
            "average_weight          81312 non-null float64\n",
            "dtypes: float64(10), int64(8), object(2)\n",
            "memory usage: 12.4+ MB\n"
          ],
          "name": "stdout"
        }
      ]
    },
    {
      "metadata": {
        "id": "_R8k1CvhB7jo",
        "colab_type": "code",
        "colab": {}
      },
      "cell_type": "code",
      "source": [
        "##Step 2 : DIFERS Drop-Impute-Fill-Encode-Replace-Scaling\n",
        "\n",
        "\n",
        "##Removing missing values (if any)\n",
        "\n",
        "games= games.dropna(axis=0)\n",
        "\n",
        "##Removing all non reviews\n",
        "\n",
        "games= games[games['users_rated']>0]\n"
      ],
      "execution_count": 0,
      "outputs": []
    },
    {
      "metadata": {
        "id": "O1uRxT7sCpoH",
        "colab_type": "code",
        "colab": {}
      },
      "cell_type": "code",
      "source": [
        "##Step 3 : Specifying etcetra options\n",
        "\n",
        "\n",
        "seed = 42\n",
        "results =[]\n",
        "KFold = model_selection.KFold(n_splits=10, random_state=seed)\n",
        "scoring = 'accuracy'\n"
      ],
      "execution_count": 0,
      "outputs": []
    },
    {
      "metadata": {
        "id": "fT7h41c_t-2h",
        "colab_type": "code",
        "colab": {
          "base_uri": "https://localhost:8080/",
          "height": 347
        },
        "outputId": "ad522577-114b-48e6-e55e-05841cd86f38"
      },
      "cell_type": "code",
      "source": [
        "###Visualize then correlate\n",
        "\n",
        "plt.hist(games['average_rating'])\n",
        "plt.show()\n"
      ],
      "execution_count": 35,
      "outputs": [
        {
          "output_type": "display_data",
          "data": {
            "image/png": "[encoded data removed]",
            "text/plain": [
              "<Figure size 576x396 with 1 Axes>"
            ]
          },
          "metadata": {
            "tags": []
          }
        }
      ]
    },
    {
      "metadata": {
        "id": "H2n-z2mjDLz_",
        "colab_type": "code",
        "colab": {
          "base_uri": "https://localhost:8080/",
          "height": 626
        },
        "outputId": "06c3a955-9e3a-49f8-b5f4-292db9a93d93"
      },
      "cell_type": "code",
      "source": [
        "###Coorelation Matrix\n",
        "\n",
        "corrmat= games.corr()\n",
        "\n",
        "fig = plt.figure(figsize=(12,9))\n",
        "\n",
        "sns.heatmap(corrmat, vmax=0.8, square=True)\n",
        "\n",
        "plt.show()"
      ],
      "execution_count": 36,
      "outputs": [
        {
          "output_type": "display_data",
          "data": {
            "image/png": "[encoded data removed]",
            "text/plain": [
              "<Figure size 864x648 with 2 Axes>"
            ]
          },
          "metadata": {
            "tags": []
          }
        }
      ]
    },
    {
      "metadata": {
        "id": "PtN1D7ToysyE",
        "colab_type": "code",
        "colab": {}
      },
      "cell_type": "code",
      "source": [
        "###from this heat map we concluded that some of the columns are useless and will make regression sluggish so we'll remove them\n",
        "\n",
        "### in order to do so we'll create a list ('col') of desired columns:\n",
        "\n",
        "col= games.columns.tolist()\n",
        "\n",
        "col= [c for c in col if c not in ['bayes_average_rating', 'average_rating', 'type', 'name', 'id']]"
      ],
      "execution_count": 0,
      "outputs": []
    },
    {
      "metadata": {
        "id": "Eg5JJFlLJ-ey",
        "colab_type": "text"
      },
      "cell_type": "markdown",
      "source": [
        "#Next,  Define XY then select suitable Model"
      ]
    },
    {
      "metadata": {
        "id": "5FMEBcsE2fl7",
        "colab_type": "code",
        "colab": {}
      },
      "cell_type": "code",
      "source": [
        "#XY\n",
        "\n",
        "X = np.array( games[col])\n",
        "\n",
        "Y = np.array( games['average_rating'])\n",
        "\n",
        "XTrain, XTest, YTrain, YTest = model_selection.train_test_split(X, Y, test_size=0.2)"
      ],
      "execution_count": 0,
      "outputs": []
    },
    {
      "metadata": {
        "id": "lcHDr0BnLn4C",
        "colab_type": "code",
        "colab": {}
      },
      "cell_type": "code",
      "source": [
        "#Select model\n",
        "\n",
        "#model 1/2\n",
        "from sklearn.linear_model import LinearRegression \n",
        "\n",
        "#model 2/2\n",
        "from sklearn.ensemble import RandomForestRegressor \n",
        "\n",
        "#Initializing\n",
        "reg1= LinearRegression()\n",
        "reg2= RandomForestRegressor (n_estimators= 100, min_samples_leaf = 10 ,  random_state= seed)"
      ],
      "execution_count": 0,
      "outputs": []
    },
    {
      "metadata": {
        "id": "UreTW30uOioh",
        "colab_type": "text"
      },
      "cell_type": "markdown",
      "source": [
        "#Next, Fit--Predict--Metric"
      ]
    },
    {
      "metadata": {
        "id": "PfAyq8rvOsQq",
        "colab_type": "code",
        "colab": {
          "base_uri": "https://localhost:8080/",
          "height": 34
        },
        "outputId": "67a375fb-80a5-4e52-9d28-99a28d2e1a49"
      },
      "cell_type": "code",
      "source": [
        "#Fit\n",
        "reg1.fit(XTrain,YTrain)\n",
        "\n",
        "\n",
        "#Predict\n",
        "predict1= reg1.predict(XTest)\n",
        "\n",
        "#Metric\n",
        "metrics.mean_squared_error(predict1,YTest)\n"
      ],
      "execution_count": 45,
      "outputs": [
        {
          "output_type": "execute_result",
          "data": {
            "text/plain": [
              "2.111536102858015"
            ]
          },
          "metadata": {
            "tags": []
          },
          "execution_count": 45
        }
      ]
    },
    {
      "metadata": {
        "id": "jjf-eLRRPby3",
        "colab_type": "code",
        "colab": {
          "base_uri": "https://localhost:8080/",
          "height": 34
        },
        "outputId": "c1f1f656-cc67-4180-b565-7593dce56c22"
      },
      "cell_type": "code",
      "source": [
        "#Fit\n",
        "reg2.fit(XTrain,YTrain)\n",
        "\n",
        "\n",
        "#Predict\n",
        "predict2= reg2.predict(XTest)\n",
        "\n",
        "#Metric\n",
        "metrics.mean_squared_error(predict2,YTest)\n"
      ],
      "execution_count": 48,
      "outputs": [
        {
          "output_type": "execute_result",
          "data": {
            "text/plain": [
              "1.4755965983547175"
            ]
          },
          "metadata": {
            "tags": []
          },
          "execution_count": 48
        }
      ]
    },
    {
      "metadata": {
        "id": "UPPPkL5_Rw6K",
        "colab_type": "code",
        "colab": {}
      },
      "cell_type": "code",
      "source": [
        ""
      ],
      "execution_count": 0,
      "outputs": []
    }
  ]
}
